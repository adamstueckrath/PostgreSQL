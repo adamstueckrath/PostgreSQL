{
 "cells": [
  {
   "cell_type": "code",
   "execution_count": 77,
   "metadata": {},
   "outputs": [],
   "source": [
    "import psycopg2 as pg2\n",
    "'''\n",
    "Psycopg is the most popular PostgreSQL database adapter for the Python programming language. \n",
    "Its main features are the complete implementation of the Python DB API\n",
    "2.0 specification and the thread safety (several threads can share the\n",
    "same connection). It was designed for heavily multi-threaded \n",
    "applications that create and destroy lots of cursors and make a \n",
    "large number of concurrent \"INSERT\"s or \"UPDATE\"s.\n",
    "'''\n",
    "\n",
    "import pandas as pd\n",
    "import numpy as np\n"
   ]
  },
  {
   "cell_type": "code",
   "execution_count": 78,
   "metadata": {},
   "outputs": [],
   "source": [
    "secret = 'Winston12'\n",
    "# establish connection to database using connect() method\n",
    "conn = pg2.connect(database='dvdrental', user='postgres',password=secret)\n"
   ]
  },
  {
   "cell_type": "code",
   "execution_count": 79,
   "metadata": {},
   "outputs": [],
   "source": [
    "# retrieve the cursor, which is a control structure that enables \n",
    "# treversal over the records of database.\n",
    "\n",
    "# Think of it as an iterator or pointer for SQL data retrieval \n",
    "\n",
    "# create cursor variable from connection object \n",
    "commands = conn.cursor()"
   ]
  },
  {
   "cell_type": "code",
   "execution_count": 80,
   "metadata": {},
   "outputs": [],
   "source": [
    "# using the cursor object you can execute SQL queries\n",
    "#commands.execute('SELECT * FROM payment')\n",
    "\n",
    "# fetch method on execute, which returns rows of data from query (all, many, one)\n",
    "#commands.fetchmany(2)"
   ]
  },
  {
   "cell_type": "code",
   "execution_count": 87,
   "metadata": {},
   "outputs": [
    {
     "data": {
      "text/html": [
       "<div>\n",
       "<style scoped>\n",
       "    .dataframe tbody tr th:only-of-type {\n",
       "        vertical-align: middle;\n",
       "    }\n",
       "\n",
       "    .dataframe tbody tr th {\n",
       "        vertical-align: top;\n",
       "    }\n",
       "\n",
       "    .dataframe thead th {\n",
       "        text-align: right;\n",
       "    }\n",
       "</style>\n",
       "<table border=\"1\" class=\"dataframe\">\n",
       "  <thead>\n",
       "    <tr style=\"text-align: right;\">\n",
       "      <th></th>\n",
       "      <th>0</th>\n",
       "      <th>1</th>\n",
       "      <th>2</th>\n",
       "      <th>3</th>\n",
       "      <th>4</th>\n",
       "      <th>5</th>\n",
       "    </tr>\n",
       "  </thead>\n",
       "  <tbody>\n",
       "    <tr>\n",
       "      <th>0</th>\n",
       "      <td>17503</td>\n",
       "      <td>341</td>\n",
       "      <td>2</td>\n",
       "      <td>1520</td>\n",
       "      <td>7.99</td>\n",
       "      <td>2007-02-15 22:25:46.996577</td>\n",
       "    </tr>\n",
       "    <tr>\n",
       "      <th>1</th>\n",
       "      <td>17504</td>\n",
       "      <td>341</td>\n",
       "      <td>1</td>\n",
       "      <td>1778</td>\n",
       "      <td>1.99</td>\n",
       "      <td>2007-02-16 17:23:14.996577</td>\n",
       "    </tr>\n",
       "    <tr>\n",
       "      <th>2</th>\n",
       "      <td>17505</td>\n",
       "      <td>341</td>\n",
       "      <td>1</td>\n",
       "      <td>1849</td>\n",
       "      <td>7.99</td>\n",
       "      <td>2007-02-16 22:41:45.996577</td>\n",
       "    </tr>\n",
       "    <tr>\n",
       "      <th>3</th>\n",
       "      <td>17506</td>\n",
       "      <td>341</td>\n",
       "      <td>2</td>\n",
       "      <td>2829</td>\n",
       "      <td>2.99</td>\n",
       "      <td>2007-02-19 19:39:56.996577</td>\n",
       "    </tr>\n",
       "    <tr>\n",
       "      <th>4</th>\n",
       "      <td>17507</td>\n",
       "      <td>341</td>\n",
       "      <td>2</td>\n",
       "      <td>3130</td>\n",
       "      <td>7.99</td>\n",
       "      <td>2007-02-20 17:31:48.996577</td>\n",
       "    </tr>\n",
       "  </tbody>\n",
       "</table>\n",
       "</div>"
      ],
      "text/plain": [
       "       0    1  2     3     4                          5\n",
       "0  17503  341  2  1520  7.99 2007-02-15 22:25:46.996577\n",
       "1  17504  341  1  1778  1.99 2007-02-16 17:23:14.996577\n",
       "2  17505  341  1  1849  7.99 2007-02-16 22:41:45.996577\n",
       "3  17506  341  2  2829  2.99 2007-02-19 19:39:56.996577\n",
       "4  17507  341  2  3130  7.99 2007-02-20 17:31:48.996577"
      ]
     },
     "execution_count": 87,
     "metadata": {},
     "output_type": "execute_result"
    }
   ],
   "source": [
    "def get_col_names(table):\n",
    "    '''return a list of column names from sql query table'''\n",
    "    return list(map(lambda x: x[0], table.description))\n",
    "\n",
    "# query to get all messages and attachments for a specific conversation\n",
    "payment_query = 'SELECT * FROM payment'\n",
    "\n",
    "# execute sql query in sqlite3 \n",
    "commands.execute(payment_query)\n",
    "t = pd.DataFrame(commands.fetchall())\n",
    "t.head()\n",
    "#colnames = [desc[0] for desc in table.description]\n",
    "#print (dir(payment_table))\n",
    "# get list of message column names \n",
    "#payment_table_columns = get_col_names(payment_table)\n",
    "#is_read_df = pd.DataFrame(table.fetchall(), columns = column_names)\n"
   ]
  },
  {
   "cell_type": "code",
   "execution_count": 76,
   "metadata": {},
   "outputs": [],
   "source": [
    "cur.close()"
   ]
  },
  {
   "cell_type": "code",
   "execution_count": null,
   "metadata": {},
   "outputs": [],
   "source": []
  }
 ],
 "metadata": {
  "kernelspec": {
   "display_name": "Python 3",
   "language": "python",
   "name": "python3"
  },
  "language_info": {
   "codemirror_mode": {
    "name": "ipython",
    "version": 3
   },
   "file_extension": ".py",
   "mimetype": "text/x-python",
   "name": "python",
   "nbconvert_exporter": "python",
   "pygments_lexer": "ipython3",
   "version": "3.6.5"
  }
 },
 "nbformat": 4,
 "nbformat_minor": 2
}

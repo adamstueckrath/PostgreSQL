{
 "cells": [
  {
   "cell_type": "code",
   "execution_count": 4,
   "metadata": {},
   "outputs": [
    {
     "data": {
      "text/plain": [
       "'\\nPsycopg is the most popular PostgreSQL database adapter for the Python programming language. \\nIts main features are the complete implementation of the Python DB API\\n2.0 specification and the thread safety (several threads can share the\\nsame connection). It was designed for heavily multi-threaded \\napplications that create and destroy lots of cursors and make a \\nlarge number of concurrent \"INSERT\"s or \"UPDATE\"s.\\n'"
      ]
     },
     "execution_count": 4,
     "metadata": {},
     "output_type": "execute_result"
    }
   ],
   "source": [
    "import psycopg2 as pg2\n",
    "'''\n",
    "Psycopg is the most popular PostgreSQL database adapter for the Python programming language. \n",
    "Its main features are the complete implementation of the Python DB API\n",
    "2.0 specification and the thread safety (several threads can share the\n",
    "same connection). It was designed for heavily multi-threaded \n",
    "applications that create and destroy lots of cursors and make a \n",
    "large number of concurrent \"INSERT\"s or \"UPDATE\"s.\n",
    "'''\n",
    "\n",
    "\n"
   ]
  },
  {
   "cell_type": "code",
   "execution_count": 6,
   "metadata": {},
   "outputs": [],
   "source": [
    "secret = 'Winston12'\n",
    "# establish connection to database using connect() method\n",
    "conn = pg2.connect(database='dvdrental', user='postgres',password=secret)\n"
   ]
  },
  {
   "cell_type": "code",
   "execution_count": 7,
   "metadata": {},
   "outputs": [],
   "source": [
    "# retrieve the cursor, which is a control structure that enables \n",
    "# treversal over the records of database.\n",
    "\n",
    "# Think of it as an iterator or pointer for SQL data retrieval \n",
    "\n",
    "# create cursor variable from connection object \n",
    "cur = conn.cursor()\n"
   ]
  },
  {
   "cell_type": "code",
   "execution_count": 10,
   "metadata": {},
   "outputs": [
    {
     "data": {
      "text/plain": [
       "[(17503,\n",
       "  341,\n",
       "  2,\n",
       "  1520,\n",
       "  Decimal('7.99'),\n",
       "  datetime.datetime(2007, 2, 15, 22, 25, 46, 996577)),\n",
       " (17504,\n",
       "  341,\n",
       "  1,\n",
       "  1778,\n",
       "  Decimal('1.99'),\n",
       "  datetime.datetime(2007, 2, 16, 17, 23, 14, 996577))]"
      ]
     },
     "execution_count": 10,
     "metadata": {},
     "output_type": "execute_result"
    }
   ],
   "source": [
    "# using the cursor object you can execute SQL queries\n",
    "cur.execute('SELECT * FROM payment')\n",
    "\n",
    "# fetch method on execute, which returns rows of data from query (all, many, one)\n",
    "cur.fetchmany(2)"
   ]
  },
  {
   "cell_type": "code",
   "execution_count": null,
   "metadata": {},
   "outputs": [],
   "source": []
  }
 ],
 "metadata": {
  "kernelspec": {
   "display_name": "Python 3",
   "language": "python",
   "name": "python3"
  },
  "language_info": {
   "codemirror_mode": {
    "name": "ipython",
    "version": 3
   },
   "file_extension": ".py",
   "mimetype": "text/x-python",
   "name": "python",
   "nbconvert_exporter": "python",
   "pygments_lexer": "ipython3",
   "version": "3.6.5"
  }
 },
 "nbformat": 4,
 "nbformat_minor": 2
}
